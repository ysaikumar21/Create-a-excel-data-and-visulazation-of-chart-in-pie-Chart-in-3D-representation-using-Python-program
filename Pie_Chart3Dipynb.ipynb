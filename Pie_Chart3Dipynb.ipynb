{
  "nbformat": 4,
  "nbformat_minor": 0,
  "metadata": {
    "colab": {
      "provenance": []
    },
    "kernelspec": {
      "name": "python3",
      "display_name": "Python 3"
    },
    "language_info": {
      "name": "python"
    }
  },
  "cells": [
    {
      "cell_type": "markdown",
      "source": [
        "**Pie Chart3D**\n",
        "\n",
        "**Create a excel data and visulazation of chart in pie Chart in 3D representation**\n",
        "\n",
        "**Using Python Librarys and Functionalities create Excel file and download that file axis and see the data how the data is enter in cells and that chart is align that we given cells visulazation**"
      ],
      "metadata": {
        "id": "DbCxzkKsku9f"
      }
    },
    {
      "cell_type": "code",
      "source": [
        "from openpyxl import Workbook\n",
        "from openpyxl.chart import PieChart3D,Reference\n",
        "data=[\n",
        "    ['Fruits','sold'],\n",
        "    ['Apple',10],\n",
        "    ['Berry',30],\n",
        "    ['Cherry',20],\n",
        "    ['Lemon',40],\n",
        "]\n",
        "wb=Workbook()\n",
        "ws=wb.active\n",
        "for row in data:\n",
        "  ws.append(row)\n",
        "\n",
        "pie=PieChart3D()\n",
        "labels=Reference(ws,min_col=1,min_row=2,max_row=5,)\n",
        "data=Reference(ws,min_col=2,min_row=1,max_row=5)\n",
        "pie.add_data(data,titles_from_data=True)\n",
        "pie.set_categories(labels)\n",
        "pie.title=\"Pie sold by Category\"\n",
        "ws.add_chart(pie,\"D1\")\n",
        "wb.save(\"Pie_Chart3D.xlsx\")"
      ],
      "metadata": {
        "id": "vk7bNPkNd6__"
      },
      "execution_count": 18,
      "outputs": []
    },
    {
      "cell_type": "markdown",
      "source": [
        "**Pie Chart**\n",
        "\n",
        "**Create a excel data and visulazation of chart in pie Chart in  representation**\n",
        "\n",
        "**Same code sum change made in this in this code this  chart is present in 2D representation**\n",
        "\n",
        "**Using Python Librarys and Functionalities create Excel file and download that file axis and see the data how the data is enter in cells and that chart is align that we given cells visulazation**"
      ],
      "metadata": {
        "id": "dUdQqAdFl5X5"
      }
    },
    {
      "cell_type": "code",
      "source": [
        "from openpyxl import Workbook\n",
        "from openpyxl.chart import PieChart,Reference\n",
        "data=[\n",
        "    ['Fruits','sold'],\n",
        "    ['Apple',10],\n",
        "    ['Berry',30],\n",
        "    ['Cherry',20],\n",
        "    ['Lemon',40],\n",
        "]\n",
        "wb=Workbook()\n",
        "ws=wb.active\n",
        "for row in data:\n",
        "  ws.append(row)\n",
        "\n",
        "pie=PieChart()\n",
        "labels=Reference(ws,min_col=1,min_row=2,max_row=5)\n",
        "data=Reference(ws,min_col=2,min_row=1,max_row=5)\n",
        "pie.add_data(data,titles_from_data=True)\n",
        "pie.set_categories(labels)\n",
        "pie.title=\"Pie sold by Category\"\n",
        "ws.add_chart(pie,\"D1\")\n",
        "wb.save(\"Pie_Chart.xlsx\")"
      ],
      "metadata": {
        "id": "e3OUS61wgbrL"
      },
      "execution_count": 19,
      "outputs": []
    },
    {
      "cell_type": "markdown",
      "source": [],
      "metadata": {
        "id": "piEbq-9LkpvM"
      }
    },
    {
      "cell_type": "code",
      "source": [],
      "metadata": {
        "id": "eczkXHHChudD"
      },
      "execution_count": null,
      "outputs": []
    }
  ]
}